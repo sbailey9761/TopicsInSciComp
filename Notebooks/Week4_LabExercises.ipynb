{
 "cells": [
  {
   "cell_type": "markdown",
   "id": "8677fe39",
   "metadata": {},
   "source": [
    "## Week 4 Lab exercises\n",
    "\n",
    "In this week we will continue to practise the use of classes, and the numerical solution of higher order non linear ordinary differential equations (ODEs). "
   ]
  },
  {
   "cell_type": "code",
   "execution_count": 1,
   "id": "0d8bde64",
   "metadata": {},
   "outputs": [],
   "source": [
    "# first we import the libraries we need\n",
    "import numpy as np\n",
    "import matplotlib.pyplot as plt\n",
    "from scipy.integrate import solve_ivp\n",
    "\n",
    "# The following lines makes the plots appear inline in the notebook\n",
    "%matplotlib inline"
   ]
  },
  {
   "cell_type": "markdown",
   "id": "2b399aad",
   "metadata": {},
   "source": [
    "### ACTIVITY 1: \n",
    "\n",
    "I have written a class below for integrating equations that implements the Euler method. Update it to include the midpoint method and (OPTIONALLY) a 4th order Runge-Kutta method (from scratch, not just by including solve_ivp()!). Be sure to add in asserts to sense check what the class is doing."
   ]
  },
  {
   "cell_type": "code",
   "execution_count": 2,
   "id": "2bceae51",
   "metadata": {},
   "outputs": [
    {
     "name": "stderr",
     "output_type": "stream",
     "text": [
      "/var/folders/7g/t30nsb7s3t175rt615npnxxh0000gp/T/ipykernel_97873/1844467054.py:86: DeprecationWarning: Conversion of an array with ndim > 0 to a scalar is deprecated, and will error in future. Ensure you extract a single element from your array before performing this operation. (Deprecated NumPy 1.25.)\n",
      "  self._y_solution[itime] = y0\n"
     ]
    },
    {
     "data": {
      "image/png": "[encoded data removed]",
      "text/plain": [
       "<Figure size 640x480 with 1 Axes>"
      ]
     },
     "metadata": {},
     "output_type": "display_data"
    }
   ],
   "source": [
    "# ExplicitIntegrator class\n",
    "\n",
    "class ExplicitIntegrator :\n",
    "\n",
    "    \"\"\"\n",
    "    Contains explicit methods to integrate ODEs\n",
    "    \n",
    "    attributes: the function to calculate the gradient dydt, max_time, \n",
    "                N_time_steps, method\n",
    "                \n",
    "    methods: calculate_solution, plot_solution\n",
    "    \n",
    "    \"\"\"\n",
    "    integration_methods = [\"Euler\", \"MidPoint\", \"RK4\"]\n",
    "    \n",
    "    # constructor function\n",
    "    def __init__(self, dydt, max_time=0, N_time_steps=0, method = \"Euler\"):\n",
    "        \n",
    "        self.dydt = dydt # Note that we are passing in a function, this is ok in python\n",
    "        self.method = method\n",
    "        assert self.method in self.integration_methods, 'chosen integration method not implemented'\n",
    "        \n",
    "        # Make these private - restrict getting and setting as below\n",
    "        self._max_time = max_time\n",
    "        self._N_time_steps = N_time_steps\n",
    "        \n",
    "        # Derived from the values above\n",
    "        self._delta_t = self.max_time / self.N_time_steps\n",
    "        self._t_solution = np.linspace(0.0, max_time, N_time_steps+1)\n",
    "        self._y_solution = np.zeros_like(self._t_solution)\n",
    "\n",
    "    # Enables the user to get the t solution\n",
    "    @property\n",
    "    def y_solution(self):\n",
    "        return self._y_solution\n",
    "\n",
    "    # Enables the user to get the y solution\n",
    "    @property\n",
    "    def t_solution(self):\n",
    "        return self._t_solution\n",
    "    \n",
    "    @property\n",
    "    def max_time(self):\n",
    "        return self._max_time\n",
    "\n",
    "    @property\n",
    "    def N_time_steps(self):\n",
    "        return self._N_time_steps\n",
    "    \n",
    "    # Enables the user to reset the max time\n",
    "    @max_time.setter\n",
    "    def max_time(self, value):\n",
    "        self._max_time = value\n",
    "        self._delta_t = self.max_time / self.N_time_steps\n",
    "        self._t_solution = np.linspace(0.0, self.max_time, self.N_time_steps+1)\n",
    "        self._y_solution = np.zeros_like(self._t_solution)\n",
    "        \n",
    "    # Enables the user to reset the number of time steps\n",
    "    @N_time_steps.setter\n",
    "    def N_time_steps(self, value):\n",
    "        self._N_time_steps = value\n",
    "        self._delta_t = self.max_time / self.N_time_steps\n",
    "        self._t_solution = np.linspace(0.0, self.max_time, self.N_time_steps+1)\n",
    "        self._y_solution = np.zeros_like(self._t_solution)\n",
    "\n",
    "    def calculate_solution(self, y0) :\n",
    "        if (self.method == \"Euler\") :\n",
    "            self.integrate_using_Euler(self.dydt, y0)\n",
    "        elif (self.method == \"Midpoint\") : \n",
    "            self.integrate_using_midpoint(self.dydt, y0)\n",
    "        else :\n",
    "            assert False, 'integration method not implemented'\n",
    "            \n",
    "    def plot_solution(self) :\n",
    "        \n",
    "        plt.xlabel(\"t\", fontsize=16)\n",
    "        plt.ylabel(\"y\", fontsize=16) \n",
    "        plt.plot(self._t_solution, self._y_solution, '-', \n",
    "                 label=self.method + \" delta_t is \" + str(self._delta_t))\n",
    "        plt.legend()\n",
    "\n",
    "    def integrate_using_Euler(self, dydt_function, y0) :\n",
    "        \n",
    "        for itime, time in enumerate(self.t_solution) :\n",
    "            if itime == 0 :\n",
    "                self._y_solution[itime] = y0\n",
    "            else :\n",
    "                dydt_at_t = self.dydt(time, self._y_solution[itime-1])\n",
    "                self._y_solution[itime] = (self._y_solution[itime-1] + \n",
    "                                          dydt_at_t * self._delta_t)\n",
    "            \n",
    "    \n",
    "    def integrate_using_midpoint(dydt_function, y0) :\n",
    "        for itime, time in enumerate(self.t_solution):\n",
    "            if time == 0 :\n",
    "                self._y_solution[itime]= y0\n",
    "                oldtime = time\n",
    "\n",
    "            else: \n",
    "                dy_dt_at_t = self.dydt(oldtime, self._y_solution[itime-1])\n",
    "                y_k_plus_half = self._y_solution[itime-1]+0.5*self.delta_t*dy_dt_at_t\n",
    "                t_plus_half = oldtime + 0.5*delta_t\n",
    "                dy_dt_at_t_plus_half = self.dydt(tplushalf, y_kplushalf)\n",
    "                y_k_plus_one = self._y_solution[itime-1]+self.delta_t * dy_dt_at_t_plus_half \n",
    "                self._y_solution[time]=y_k_plus_one\n",
    "                \n",
    "                oldtime = time\n",
    "                \n",
    "    \n",
    "    #UPDATE ME (OPTIONALLY)\n",
    "    #def integrate_using_RK4(dydt_function, y0) :\n",
    "\n",
    "    \n",
    "# How to use the class - example for the logistic equation\n",
    "\n",
    "# Note that the function has to take t as the first argument and y as the second\n",
    "def calculate_logistic_dydt(t, y):\n",
    "    \"\"\"Returns the gradient dy/dt for the logistic equation\"\"\"\n",
    "    dydt = y*(1 - y)\n",
    "    return dydt\n",
    "\n",
    "max_time = 10.0\n",
    "N_time_steps = 10\n",
    "\n",
    "# Define an object of the class\n",
    "logistic_integrator = ExplicitIntegrator(calculate_logistic_dydt, max_time, \n",
    "                                         N_time_steps, \"Euler\")\n",
    "\n",
    "# Find and plot the solution\n",
    "y0 = np.array([0.5])\n",
    "logistic_integrator.calculate_solution(y0)\n",
    "logistic_integrator.plot_solution()\n",
    "#print(logistic_integrator.y_solution)\n",
    "\n",
    "#Update the number of steps and plot again\n",
    "logistic_integrator.N_time_steps = 20 # Note how this changes the other attributes above\n",
    "logistic_integrator.calculate_solution(y0)\n",
    "logistic_integrator.plot_solution()\n",
    "#print(logistic_integrator.y_solution)"
   ]
  },
  {
   "cell_type": "markdown",
   "id": "2deb43fc",
   "metadata": {},
   "source": [
    "### ACTIVITY 2:\n",
    "    \n",
    "Test the above integrator class on one of the simple differential equations that we have studied so far, and confirm that the convergence orders you obtain when doubling the resolution for each method are as expected."
   ]
  },
  {
   "cell_type": "code",
   "execution_count": 3,
   "id": "d88fbd39",
   "metadata": {},
   "outputs": [],
   "source": [
    "# Test the integrator\n",
    "logistic_integrator"
   ]
  },
  {
   "cell_type": "markdown",
   "id": "d787ce7d",
   "metadata": {},
   "source": [
    "### ACTIVITY 3:\n",
    "\n",
    "Write a class that contains information about the Van der Pol oscillator with a source, and solves the second order ODE related to its motion using scipy's solve_IVP method:\n",
    "\n",
    "$\\frac{d^2y}{dt^2} - 2a (1-y^2) \\frac{dy}{dt} + y = f(t)$\n",
    "\n",
    "where $a$ is a damping factor. Your class should allow you to pass in the source function f(t) as an argument that can be changed. \n",
    "\n",
    "_HINT: It may help to start with the Ecosystem class in the solutions for last week's tutorial and modify this._\n",
    "\n",
    "What parts or features of the differential equation tell us if it is:\n",
    "\n",
    "1. Second or first order\n",
    "2. Autonomous\n",
    "3. Linear / non linear\n",
    "4. Dimension 1 or 2?"
   ]
  },
  {
   "cell_type": "code",
   "execution_count": 4,
   "id": "2f5fb331",
   "metadata": {},
   "outputs": [],
   "source": [
    "class VanDerPolOscillator:\n",
    "    \n",
    "    \"\"\"Definition...\n",
    "    \n",
    "       attributes:\n",
    "       \n",
    "       methods:\n",
    "    \n",
    "    \"\"\"\n",
    "\n"
   ]
  },
  {
   "cell_type": "markdown",
   "id": "4f8f5c59",
   "metadata": {},
   "source": [
    "### ACTIVITY 4\n",
    "\n",
    "Initially set $f(t) = 0$. \n",
    "\n",
    "Add a method to make a phase plot $(y, dy/dt)$ of the solutions for a range of initial conditions. What do you observe about the behaviour?"
   ]
  },
  {
   "cell_type": "code",
   "execution_count": 5,
   "id": "8be65c0a",
   "metadata": {},
   "outputs": [],
   "source": [
    "# Phase plot\n",
    "\n",
    "# UPDATE ME!"
   ]
  },
  {
   "cell_type": "markdown",
   "id": "776fc858",
   "metadata": {},
   "source": [
    "### ACTIVITY 5\n",
    "\n",
    "Now set $f(t) = \\sin(\\omega t)$. For what values of $\\omega$ do the methods start to fail? Why?"
   ]
  },
  {
   "cell_type": "code",
   "execution_count": 6,
   "id": "8e6fb3b8",
   "metadata": {},
   "outputs": [],
   "source": [
    "# UPDATE ME!"
   ]
  }
 ],
 "metadata": {
  "kernelspec": {
   "display_name": "Python 3 (ipykernel)",
   "language": "python",
   "name": "python3"
  },
  "language_info": {
   "codemirror_mode": {
    "name": "ipython",
    "version": 3
   },
   "file_extension": ".py",
   "mimetype": "text/x-python",
   "name": "python",
   "nbconvert_exporter": "python",
   "pygments_lexer": "ipython3",
   "version": "3.9.18"
  }
 },
 "nbformat": 4,
 "nbformat_minor": 5
}
